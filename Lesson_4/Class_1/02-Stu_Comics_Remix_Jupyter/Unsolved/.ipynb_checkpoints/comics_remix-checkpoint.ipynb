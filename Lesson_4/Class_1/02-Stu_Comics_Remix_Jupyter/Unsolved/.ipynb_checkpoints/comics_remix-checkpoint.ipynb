{
 "cells": [
  {
   "cell_type": "code",
   "execution_count": 28,
   "metadata": {},
   "outputs": [],
   "source": [
    "# Modules\n",
    "import os\n",
    "import csv"
   ]
  },
  {
   "cell_type": "code",
   "execution_count": 29,
   "metadata": {},
   "outputs": [
    {
     "name": "stdin",
     "output_type": "stream",
     "text": [
      "What title  of comic book are you looking for? 13 coins\n"
     ]
    }
   ],
   "source": [
    "# Prompt user for video lookup\n",
    "user_title = input(\"What title  of comic book are you looking for?\")"
   ]
  },
  {
   "cell_type": "code",
   "execution_count": 30,
   "metadata": {},
   "outputs": [],
   "source": [
    "# Set path for file\n",
    "csvpath = os.path.join(\"Resources\", \"comic_books.csv\")\n",
    "# Set variable to check if we found the video\n",
    "found = False"
   ]
  },
  {
   "cell_type": "code",
   "execution_count": 31,
   "metadata": {},
   "outputs": [
    {
     "name": "stdout",
     "output_type": "stream",
     "text": [
      "13 coins was published by Titan Comics in 2015\n"
     ]
    }
   ],
   "source": [
    "# Open the CSV\n",
    "with open(csvpath, encoding=\"utf8\") as csvfile:\n",
    "    csvreader = csv.reader(csvfile, delimiter=\",\")\n",
    "\n",
    "    # Loop through looking for the video\n",
    "    for row in csvreader:\n",
    "        if row[0] == user_title:\n",
    "            print(row[0] + \" was published by \" + row[8] + \" in \" + row[9])\n",
    "\n",
    "            # Set variable to confirm we have found the video\n",
    "            found = True\n",
    "\n",
    "    # If the video is never found, alert the user\n",
    "    if not found:\n",
    "        print(\"Sorry that book is not avaiilable\")"
   ]
  },
  {
   "cell_type": "code",
   "execution_count": null,
   "metadata": {},
   "outputs": [],
   "source": []
  }
 ],
 "metadata": {
  "kernelspec": {
   "display_name": "Python 3 (ipykernel)",
   "language": "python",
   "name": "python3"
  },
  "language_info": {
   "codemirror_mode": {
    "name": "ipython",
    "version": 3
   },
   "file_extension": ".py",
   "mimetype": "text/x-python",
   "name": "python",
   "nbconvert_exporter": "python",
   "pygments_lexer": "ipython3",
   "version": "3.10.13"
  }
 },
 "nbformat": 4,
 "nbformat_minor": 4
}
