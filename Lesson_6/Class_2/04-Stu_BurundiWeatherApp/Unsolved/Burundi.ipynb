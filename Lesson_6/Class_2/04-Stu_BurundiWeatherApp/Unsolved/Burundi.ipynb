{
 "cells": [
  {
   "cell_type": "code",
   "execution_count": 23,
   "metadata": {},
   "outputs": [],
   "source": [
    "# Dependencies\n",
    "import requests\n",
    "from pprint import pprint\n",
    "from config import api_key\n",
    "# Save config information.\n",
    "city = \"Bujumbura\"\n",
    "units = \"metric\"\n",
    "url = \"http://api.openweathermap.org/data/2.5/weather?\""
   ]
  },
  {
   "cell_type": "code",
   "execution_count": 24,
   "metadata": {},
   "outputs": [
    {
     "name": "stdout",
     "output_type": "stream",
     "text": [
      "{'base': 'stations',\n",
      " 'clouds': {'all': 99},\n",
      " 'cod': 200,\n",
      " 'coord': {'lat': -3.3822, 'lon': 29.3644},\n",
      " 'dt': 1711388305,\n",
      " 'id': 425378,\n",
      " 'main': {'feels_like': 24.19,\n",
      "          'grnd_level': 925,\n",
      "          'humidity': 83,\n",
      "          'pressure': 1013,\n",
      "          'sea_level': 1013,\n",
      "          'temp': 23.61,\n",
      "          'temp_max': 23.61,\n",
      "          'temp_min': 23.61},\n",
      " 'name': 'Bujumbura',\n",
      " 'rain': {'1h': 0.99},\n",
      " 'sys': {'country': 'BI', 'sunrise': 1711339529, 'sunset': 1711383073},\n",
      " 'timezone': 7200,\n",
      " 'visibility': 10000,\n",
      " 'weather': [{'description': 'light rain',\n",
      "              'icon': '10n',\n",
      "              'id': 500,\n",
      "              'main': 'Rain'}],\n",
      " 'wind': {'deg': 159, 'gust': 2.27, 'speed': 1.52}}\n"
     ]
    }
   ],
   "source": [
    "# Build query URL and request your results in Celsius\n",
    "query_url =(f'{url}q={city}&appid={api_key}&units={units}')\n",
    "response = requests.get(query_url).json()\n",
    "pprint(response)"
   ]
  },
  {
   "cell_type": "code",
   "execution_count": 25,
   "metadata": {},
   "outputs": [],
   "source": [
    "# Get temperature from JSON response\n",
    "temperature = response['main']['temp']"
   ]
  },
  {
   "cell_type": "code",
   "execution_count": 26,
   "metadata": {},
   "outputs": [
    {
     "name": "stdout",
     "output_type": "stream",
     "text": [
      "The temperature in Bujumbura is 23.61\n"
     ]
    }
   ],
   "source": [
    "# Report temperature\n",
    "print(f'The temperature in {city} is {temperature}')"
   ]
  },
  {
   "cell_type": "code",
   "execution_count": 29,
   "metadata": {},
   "outputs": [
    {
     "name": "stdout",
     "output_type": "stream",
     "text": [
      "The temperature in Bujumbura is 23.61C or 74.5F\n"
     ]
    }
   ],
   "source": [
    "# BONUS\n",
    "\n",
    "# use list of units\n",
    "units = [\"metric\",\"imperial\"]\n",
    "# set up list to hold two different temperatures\n",
    "\n",
    "temps = []\n",
    "# loop through the list of units and append them to temperatures list\n",
    "for unit in units:\n",
    "\n",
    "    query_url =(f'{url}q={city}&appid={api_key}&units={unit}')\n",
    "    response = requests.get(query_url).json()\n",
    "    temperature = response['main']['temp']\n",
    "    temps.append(temperature)\n",
    "    # Build query URL based on current element in units\n",
    "\n",
    "\n",
    "    # Get weather data\n",
    "\n",
    "\n",
    "    # Get temperature from JSON response\n",
    "\n",
    "\n",
    "\n",
    "# Report temperatures by accessing each element in the list\n",
    "print(f'The temperature in {city} is {temps[0]}C or {temps[1]}F')"
   ]
  },
  {
   "cell_type": "code",
   "execution_count": null,
   "metadata": {},
   "outputs": [],
   "source": []
  }
 ],
 "metadata": {
  "kernelspec": {
   "display_name": "Python 3 (ipykernel)",
   "language": "python",
   "name": "python3"
  },
  "language_info": {
   "codemirror_mode": {
    "name": "ipython",
    "version": 3
   },
   "file_extension": ".py",
   "mimetype": "text/x-python",
   "name": "python",
   "nbconvert_exporter": "python",
   "pygments_lexer": "ipython3",
   "version": "3.10.13"
  },
  "varInspector": {
   "cols": {
    "lenName": 16,
    "lenType": 16,
    "lenVar": 40
   },
   "kernels_config": {
    "python": {
     "delete_cmd_postfix": "",
     "delete_cmd_prefix": "del ",
     "library": "var_list.py",
     "varRefreshCmd": "print(var_dic_list())"
    },
    "r": {
     "delete_cmd_postfix": ") ",
     "delete_cmd_prefix": "rm(",
     "library": "var_list.r",
     "varRefreshCmd": "cat(var_dic_list()) "
    }
   },
   "types_to_exclude": [
    "module",
    "function",
    "builtin_function_or_method",
    "instance",
    "_Feature"
   ],
   "window_display": false
  }
 },
 "nbformat": 4,
 "nbformat_minor": 4
}
