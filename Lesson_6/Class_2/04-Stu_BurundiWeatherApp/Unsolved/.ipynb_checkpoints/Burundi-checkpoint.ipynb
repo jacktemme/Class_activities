{
 "cells": [
  {
   "cell_type": "code",
   "execution_count": 47,
   "metadata": {},
   "outputs": [],
   "source": [
    "# Dependencies\n",
    "import requests\n",
    "from pprint import pprint\n",
    "api_key = \"60a6ffdd990b65ca16853197a6e0c84c\"\n",
    "# Save config information.\n",
    "city = \"Bujumbura\"\n",
    "units = \"metric\"\n",
    "url = \"http://api.openweathermap.org/data/2.5/weather?\""
   ]
  },
  {
   "cell_type": "code",
   "execution_count": 48,
   "metadata": {},
   "outputs": [
    {
     "name": "stdout",
     "output_type": "stream",
     "text": [
      "{'base': 'stations',\n",
      " 'clouds': {'all': 100},\n",
      " 'cod': 200,\n",
      " 'coord': {'lat': -3.3822, 'lon': 29.3644},\n",
      " 'dt': 1711072173,\n",
      " 'id': 425378,\n",
      " 'main': {'feels_like': 22.62,\n",
      "          'grnd_level': 921,\n",
      "          'humidity': 82,\n",
      "          'pressure': 1010,\n",
      "          'sea_level': 1010,\n",
      "          'temp': 22.2,\n",
      "          'temp_max': 22.2,\n",
      "          'temp_min': 22.2},\n",
      " 'name': 'Bujumbura',\n",
      " 'sys': {'country': 'BI', 'sunrise': 1711080369, 'sunset': 1711123947},\n",
      " 'timezone': 7200,\n",
      " 'visibility': 10000,\n",
      " 'weather': [{'description': 'overcast clouds',\n",
      "              'icon': '04n',\n",
      "              'id': 804,\n",
      "              'main': 'Clouds'}],\n",
      " 'wind': {'deg': 33, 'gust': 2.37, 'speed': 1.5}}\n"
     ]
    }
   ],
   "source": [
    "# Build query URL and request your results in Celsius\n",
    "query_url = (f\"{url}&q={city}&appid={api_key}&units={units}\")\n",
    "weather_json = requests.get(query_url).json()\n",
    "pprint(weather_json)"
   ]
  },
  {
   "cell_type": "code",
   "execution_count": 44,
   "metadata": {},
   "outputs": [
    {
     "name": "stdout",
     "output_type": "stream",
     "text": [
      "22.2\n"
     ]
    }
   ],
   "source": [
    "# Get temperature from JSON response\n",
    "temperature = weather_json[\"main\"][\"temp\"]\n",
    "print(temperature)"
   ]
  },
  {
   "cell_type": "code",
   "execution_count": 46,
   "metadata": {},
   "outputs": [
    {
     "name": "stdout",
     "output_type": "stream",
     "text": [
      "The temperature in Bujumbura is 22.2 C\n"
     ]
    }
   ],
   "source": [
    "# Report temperature\n",
    "print(f\"The temperature in Bujumbura is {temperature} C\")"
   ]
  },
  {
   "cell_type": "code",
   "execution_count": 5,
   "metadata": {},
   "outputs": [
    {
     "name": "stdout",
     "output_type": "stream",
     "text": [
      "The temperature in Bujumbura is 21.75C or 71.15F.\n"
     ]
    }
   ],
   "source": [
    "# BONUS\n",
    "\n",
    "# use list of units\n",
    "\n",
    "\n",
    "# set up list to hold two different temperatures\n",
    "\n",
    "\n",
    "# loop through the list of units and append them to temperatures list\n",
    "\n",
    "    # Build query URL based on current element in units\n",
    "\n",
    "\n",
    "    # Get weather data\n",
    "\n",
    "\n",
    "    # Get temperature from JSON response\n",
    "\n",
    "\n",
    "\n",
    "# Report temperatures by accessing each element in the list\n"
   ]
  }
 ],
 "metadata": {
  "kernelspec": {
   "display_name": "Python 3 (ipykernel)",
   "language": "python",
   "name": "python3"
  },
  "language_info": {
   "codemirror_mode": {
    "name": "ipython",
    "version": 3
   },
   "file_extension": ".py",
   "mimetype": "text/x-python",
   "name": "python",
   "nbconvert_exporter": "python",
   "pygments_lexer": "ipython3",
   "version": "3.10.13"
  },
  "varInspector": {
   "cols": {
    "lenName": 16,
    "lenType": 16,
    "lenVar": 40
   },
   "kernels_config": {
    "python": {
     "delete_cmd_postfix": "",
     "delete_cmd_prefix": "del ",
     "library": "var_list.py",
     "varRefreshCmd": "print(var_dic_list())"
    },
    "r": {
     "delete_cmd_postfix": ") ",
     "delete_cmd_prefix": "rm(",
     "library": "var_list.r",
     "varRefreshCmd": "cat(var_dic_list()) "
    }
   },
   "types_to_exclude": [
    "module",
    "function",
    "builtin_function_or_method",
    "instance",
    "_Feature"
   ],
   "window_display": false
  }
 },
 "nbformat": 4,
 "nbformat_minor": 4
}
