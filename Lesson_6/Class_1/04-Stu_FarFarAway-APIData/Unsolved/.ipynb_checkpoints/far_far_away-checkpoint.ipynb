{
 "cells": [
  {
   "cell_type": "code",
   "execution_count": 2,
   "metadata": {},
   "outputs": [],
   "source": [
    "# Dependencies\n",
    "import requests\n",
    "import json"
   ]
  },
  {
   "cell_type": "code",
   "execution_count": 3,
   "metadata": {},
   "outputs": [],
   "source": [
    "# URL for GET requests to retrieve Star Wars character data\n",
    "base_url = \"https://swapi.dev/api/people/\""
   ]
  },
  {
   "cell_type": "code",
   "execution_count": 15,
   "metadata": {},
   "outputs": [
    {
     "name": "stdout",
     "output_type": "stream",
     "text": [
      "https://swapi.dev/api/people/4\n"
     ]
    }
   ],
   "source": [
    "# Create a url with a specific character id\n",
    "character_id = '4'\n",
    "url = base_url + character_id\n",
    "print(url)"
   ]
  },
  {
   "cell_type": "code",
   "execution_count": 16,
   "metadata": {},
   "outputs": [
    {
     "name": "stdout",
     "output_type": "stream",
     "text": [
      "<Response [200]>\n"
     ]
    }
   ],
   "source": [
    "# Perform a get request for this character\n",
    "print(requests.get(url))"
   ]
  },
  {
   "cell_type": "code",
   "execution_count": 17,
   "metadata": {},
   "outputs": [
    {
     "name": "stdout",
     "output_type": "stream",
     "text": [
      "{\n",
      "    \"birth_year\": \"41.9BBY\",\n",
      "    \"created\": \"2014-12-10T15:18:20.704000Z\",\n",
      "    \"edited\": \"2014-12-20T21:17:50.313000Z\",\n",
      "    \"eye_color\": \"yellow\",\n",
      "    \"films\": [\n",
      "        \"https://swapi.dev/api/films/1/\",\n",
      "        \"https://swapi.dev/api/films/2/\",\n",
      "        \"https://swapi.dev/api/films/3/\",\n",
      "        \"https://swapi.dev/api/films/6/\"\n",
      "    ],\n",
      "    \"gender\": \"male\",\n",
      "    \"hair_color\": \"none\",\n",
      "    \"height\": \"202\",\n",
      "    \"homeworld\": \"https://swapi.dev/api/planets/1/\",\n",
      "    \"mass\": \"136\",\n",
      "    \"name\": \"Darth Vader\",\n",
      "    \"skin_color\": \"white\",\n",
      "    \"species\": [],\n",
      "    \"starships\": [\n",
      "        \"https://swapi.dev/api/starships/13/\"\n",
      "    ],\n",
      "    \"url\": \"https://swapi.dev/api/people/4/\",\n",
      "    \"vehicles\": []\n",
      "}\n"
     ]
    }
   ],
   "source": [
    "# Storing the JSON response within a variable\n",
    "star_wars_data = requests.get(url).json()\n",
    "# Use json.dumps to print the json\n",
    "print(json.dumps(star_wars_data, indent = 4, sort_keys = True))"
   ]
  },
  {
   "cell_type": "code",
   "execution_count": 18,
   "metadata": {},
   "outputs": [
    {
     "name": "stdout",
     "output_type": "stream",
     "text": [
      "Darth Vader\n"
     ]
    }
   ],
   "source": [
    "# Print the name of the character retrieved\n",
    "print(star_wars_data[\"name\"])"
   ]
  },
  {
   "cell_type": "code",
   "execution_count": 19,
   "metadata": {},
   "outputs": [
    {
     "name": "stdout",
     "output_type": "stream",
     "text": [
      "4\n"
     ]
    }
   ],
   "source": [
    "# Print the number of films that they were in (hint: use len())\n",
    "print(len(star_wars_data[\"films\"]))"
   ]
  },
  {
   "cell_type": "code",
   "execution_count": 28,
   "metadata": {},
   "outputs": [
    {
     "name": "stdout",
     "output_type": "stream",
     "text": [
      "{\n",
      "    \"MGLT\": \"105\",\n",
      "    \"cargo_capacity\": \"150\",\n",
      "    \"consumables\": \"5 days\",\n",
      "    \"cost_in_credits\": \"unknown\",\n",
      "    \"created\": \"2014-12-12T11:21:32.991000Z\",\n",
      "    \"crew\": \"1\",\n",
      "    \"edited\": \"2014-12-20T21:23:49.889000Z\",\n",
      "    \"films\": [\n",
      "        \"https://swapi.dev/api/films/1/\"\n",
      "    ],\n",
      "    \"hyperdrive_rating\": \"1.0\",\n",
      "    \"length\": \"9.2\",\n",
      "    \"manufacturer\": \"Sienar Fleet Systems\",\n",
      "    \"max_atmosphering_speed\": \"1200\",\n",
      "    \"model\": \"Twin Ion Engine Advanced x1\",\n",
      "    \"name\": \"TIE Advanced x1\",\n",
      "    \"passengers\": \"0\",\n",
      "    \"pilots\": [\n",
      "        \"https://swapi.dev/api/people/4/\"\n",
      "    ],\n",
      "    \"starship_class\": \"Starfighter\",\n",
      "    \"url\": \"https://swapi.dev/api/starships/13/\"\n",
      "}\n"
     ]
    }
   ],
   "source": [
    "# Request the starships URI found in the starships property of the\n",
    "# previously retreived json, then use the response to figure out what this \n",
    "# character's first starship was\n",
    "starship = star_wars_data[\"starships\"][0]\n",
    "starship_data = requests.get(starship).json()\n",
    "print(json.dumps(response, indent = 4, sort_keys = True))"
   ]
  },
  {
   "cell_type": "code",
   "execution_count": 29,
   "metadata": {},
   "outputs": [
    {
     "name": "stdout",
     "output_type": "stream",
     "text": [
      "Their first ship: TIE Advanced x1\n"
     ]
    }
   ],
   "source": [
    "# Print the name of the character's first starship\n",
    "print(f\"Their first ship: {starship_data['name']}\")"
   ]
  },
  {
   "cell_type": "code",
   "execution_count": 36,
   "metadata": {},
   "outputs": [
    {
     "name": "stdout",
     "output_type": "stream",
     "text": [
      "Darth Vader was in: \n",
      "['A New Hope', 'The Empire Strikes Back', 'Return of the Jedi', 'Revenge of the Sith']\n"
     ]
    }
   ],
   "source": [
    "# BONUS\n",
    "films_list = []\n",
    "for film in star_wars_data[\"films\"]:\n",
    "    film_data = requests.get(film).json()\n",
    "    film_name = film_data[\"title\"]\n",
    "    films_list.append(film_name)\n",
    "\n",
    "print(\"Darth Vader was in: \")\n",
    "print(films_list)"
   ]
  },
  {
   "cell_type": "code",
   "execution_count": null,
   "metadata": {
    "collapsed": true,
    "jupyter": {
     "outputs_hidden": true
    }
   },
   "outputs": [],
   "source": []
  }
 ],
 "metadata": {
  "kernelspec": {
   "display_name": "Python 3 (ipykernel)",
   "language": "python",
   "name": "python3"
  },
  "language_info": {
   "codemirror_mode": {
    "name": "ipython",
    "version": 3
   },
   "file_extension": ".py",
   "mimetype": "text/x-python",
   "name": "python",
   "nbconvert_exporter": "python",
   "pygments_lexer": "ipython3",
   "version": "3.10.13"
  },
  "varInspector": {
   "cols": {
    "lenName": 16,
    "lenType": 16,
    "lenVar": 40
   },
   "kernels_config": {
    "python": {
     "delete_cmd_postfix": "",
     "delete_cmd_prefix": "del ",
     "library": "var_list.py",
     "varRefreshCmd": "print(var_dic_list())"
    },
    "r": {
     "delete_cmd_postfix": ") ",
     "delete_cmd_prefix": "rm(",
     "library": "var_list.r",
     "varRefreshCmd": "cat(var_dic_list()) "
    }
   },
   "types_to_exclude": [
    "module",
    "function",
    "builtin_function_or_method",
    "instance",
    "_Feature"
   ],
   "window_display": false
  }
 },
 "nbformat": 4,
 "nbformat_minor": 4
}
