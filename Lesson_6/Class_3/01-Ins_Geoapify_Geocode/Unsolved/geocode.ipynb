{
 "cells": [
  {
   "cell_type": "markdown",
   "metadata": {},
   "source": [
    "# Geoapify Geocode Demo"
   ]
  },
  {
   "cell_type": "code",
   "execution_count": 2,
   "metadata": {},
   "outputs": [],
   "source": [
    "# Dependencies\n",
    "import requests\n",
    "import json\n",
    "\n",
    "# Import the API key\n",
    "from config import geoapify_key"
   ]
  },
  {
   "cell_type": "code",
   "execution_count": 3,
   "metadata": {},
   "outputs": [],
   "source": [
    "# Target city\n",
    "target_city = \"Salt Lake City, Utah\"\n",
    "\n",
    "# Build the endpoint URL\n",
    "target_url = f\"https://api.geoapify.com/v1/geocode/search?text={target_city}&format=json&apiKey={geoapify_key}\""
   ]
  },
  {
   "cell_type": "code",
   "execution_count": 6,
   "metadata": {},
   "outputs": [
    {
     "name": "stdout",
     "output_type": "stream",
     "text": [
      "{'results': [{'datasource': {'sourcename': 'openstreetmap', 'attribution': '© OpenStreetMap contributors', 'license': 'Open Database License', 'url': 'https://www.openstreetmap.org/copyright'}, 'country': 'United States', 'country_code': 'us', 'state': 'Utah', 'county': 'Salt Lake County', 'city': 'Salt Lake City', 'lon': -111.886797, 'lat': 40.7596198, 'state_code': 'UT', 'result_type': 'city', 'formatted': 'Salt Lake City, UT, United States of America', 'address_line1': 'Salt Lake City, UT', 'address_line2': 'United States of America', 'category': 'administrative', 'timezone': {'name': 'America/Denver', 'offset_STD': '-07:00', 'offset_STD_seconds': -25200, 'offset_DST': '-06:00', 'offset_DST_seconds': -21600, 'abbreviation_STD': 'MST', 'abbreviation_DST': 'MDT'}, 'plus_code': '85GCQ457+R7', 'plus_code_short': '57+R7 Salt Lake City, Salt Lake County, United States', 'rank': {'importance': 1.037243090238384, 'popularity': 4.495802409234573, 'confidence': 1, 'confidence_city_level': 1, 'match_type': 'full_match'}, 'place_id': '51384c3448c1f85bc0597132bb383b614440f00101f9017208030000000000c00208', 'bbox': {'lon1': -112.1013916, 'lat1': 40.6999263, 'lon2': -111.7404843, 'lat2': 40.8533905}}], 'query': {'text': 'Salt Lake City, Utah', 'parsed': {'city': 'salt lake city', 'state': 'utah', 'expected_type': 'city'}}}\n"
     ]
    }
   ],
   "source": [
    "# Run a request to endpoint and convert result to json\n",
    "\n",
    "response = requests.get(target_url).json()\n",
    "# Print the json\n",
    "print(response)"
   ]
  },
  {
   "cell_type": "code",
   "execution_count": 7,
   "metadata": {},
   "outputs": [
    {
     "name": "stdout",
     "output_type": "stream",
     "text": [
      "{\n",
      "    \"query\": {\n",
      "        \"parsed\": {\n",
      "            \"city\": \"salt lake city\",\n",
      "            \"expected_type\": \"city\",\n",
      "            \"state\": \"utah\"\n",
      "        },\n",
      "        \"text\": \"Salt Lake City, Utah\"\n",
      "    },\n",
      "    \"results\": [\n",
      "        {\n",
      "            \"address_line1\": \"Salt Lake City, UT\",\n",
      "            \"address_line2\": \"United States of America\",\n",
      "            \"bbox\": {\n",
      "                \"lat1\": 40.6999263,\n",
      "                \"lat2\": 40.8533905,\n",
      "                \"lon1\": -112.1013916,\n",
      "                \"lon2\": -111.7404843\n",
      "            },\n",
      "            \"category\": \"administrative\",\n",
      "            \"city\": \"Salt Lake City\",\n",
      "            \"country\": \"United States\",\n",
      "            \"country_code\": \"us\",\n",
      "            \"county\": \"Salt Lake County\",\n",
      "            \"datasource\": {\n",
      "                \"attribution\": \"\\u00a9 OpenStreetMap contributors\",\n",
      "                \"license\": \"Open Database License\",\n",
      "                \"sourcename\": \"openstreetmap\",\n",
      "                \"url\": \"https://www.openstreetmap.org/copyright\"\n",
      "            },\n",
      "            \"formatted\": \"Salt Lake City, UT, United States of America\",\n",
      "            \"lat\": 40.7596198,\n",
      "            \"lon\": -111.886797,\n",
      "            \"place_id\": \"51384c3448c1f85bc0597132bb383b614440f00101f9017208030000000000c00208\",\n",
      "            \"plus_code\": \"85GCQ457+R7\",\n",
      "            \"plus_code_short\": \"57+R7 Salt Lake City, Salt Lake County, United States\",\n",
      "            \"rank\": {\n",
      "                \"confidence\": 1,\n",
      "                \"confidence_city_level\": 1,\n",
      "                \"importance\": 1.037243090238384,\n",
      "                \"match_type\": \"full_match\",\n",
      "                \"popularity\": 4.495802409234573\n",
      "            },\n",
      "            \"result_type\": \"city\",\n",
      "            \"state\": \"Utah\",\n",
      "            \"state_code\": \"UT\",\n",
      "            \"timezone\": {\n",
      "                \"abbreviation_DST\": \"MDT\",\n",
      "                \"abbreviation_STD\": \"MST\",\n",
      "                \"name\": \"America/Denver\",\n",
      "                \"offset_DST\": \"-06:00\",\n",
      "                \"offset_DST_seconds\": -21600,\n",
      "                \"offset_STD\": \"-07:00\",\n",
      "                \"offset_STD_seconds\": -25200\n",
      "            }\n",
      "        }\n",
      "    ]\n",
      "}\n"
     ]
    }
   ],
   "source": [
    "# Print the json (pretty printed)\n",
    "print(json.dumps(response,indent = 4, sort_keys = True))"
   ]
  },
  {
   "cell_type": "code",
   "execution_count": 12,
   "metadata": {},
   "outputs": [
    {
     "name": "stdout",
     "output_type": "stream",
     "text": [
      "40.7596198\n",
      "-111.886797\n"
     ]
    }
   ],
   "source": [
    "# Extract latitude and longitude\n",
    "lat = response['results'][0][\"lat\"]\n",
    "lon = response['results'][0][\"lon\"]\n",
    "\n",
    "# Print the latitude and longitude\n",
    "print(lat)\n",
    "print(lon)"
   ]
  },
  {
   "cell_type": "code",
   "execution_count": null,
   "metadata": {},
   "outputs": [],
   "source": []
  }
 ],
 "metadata": {
  "anaconda-cloud": {},
  "kernelspec": {
   "display_name": "Python 3 (ipykernel)",
   "language": "python",
   "name": "python3"
  },
  "language_info": {
   "codemirror_mode": {
    "name": "ipython",
    "version": 3
   },
   "file_extension": ".py",
   "mimetype": "text/x-python",
   "name": "python",
   "nbconvert_exporter": "python",
   "pygments_lexer": "ipython3",
   "version": "3.10.13"
  }
 },
 "nbformat": 4,
 "nbformat_minor": 4
}
