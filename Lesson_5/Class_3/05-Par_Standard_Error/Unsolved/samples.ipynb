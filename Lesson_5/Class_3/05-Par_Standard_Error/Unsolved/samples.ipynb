{
 "cells": [
  {
   "cell_type": "code",
   "execution_count": 65,
   "metadata": {},
   "outputs": [],
   "source": [
    "%matplotlib widget"
   ]
  },
  {
   "cell_type": "code",
   "execution_count": 66,
   "metadata": {},
   "outputs": [],
   "source": [
    "# Import dependencies\n",
    "from matplotlib import pyplot as plt\n",
    "import numpy as np\n",
    "import pandas as pd\n",
    "from sklearn.datasets import fetch_california_housing\n",
    "from scipy.stats import sem"
   ]
  },
  {
   "cell_type": "code",
   "execution_count": 67,
   "metadata": {},
   "outputs": [
    {
     "name": "stdout",
     "output_type": "stream",
     "text": [
      ".. _california_housing_dataset:\n",
      "\n",
      "California Housing dataset\n",
      "--------------------------\n",
      "\n",
      "**Data Set Characteristics:**\n",
      "\n",
      "    :Number of Instances: 20640\n",
      "\n",
      "    :Number of Attributes: 8 numeric, predictive attributes and the target\n",
      "\n",
      "    :Attribute Information:\n",
      "        - MedInc        median income in block group\n",
      "        - HouseAge      median house age in block group\n",
      "        - AveRooms      average number of rooms per household\n",
      "        - AveBedrms     average number of bedrooms per household\n",
      "        - Population    block group population\n",
      "        - AveOccup      average number of household members\n",
      "        - Latitude      block group latitude\n",
      "        - Longitude     block group longitude\n",
      "\n",
      "    :Missing Attribute Values: None\n",
      "\n",
      "This dataset was obtained from the StatLib repository.\n",
      "https://www.dcc.fc.up.pt/~ltorgo/Regression/cal_housing.html\n",
      "\n",
      "The target variable is the median house value for California districts,\n",
      "expressed in hundreds of thousands of dollars ($100,000).\n",
      "\n",
      "This dataset was derived from the 1990 U.S. census, using one row per census\n",
      "block group. A block group is the smallest geographical unit for which the U.S.\n",
      "Census Bureau publishes sample data (a block group typically has a population\n",
      "of 600 to 3,000 people).\n",
      "\n",
      "A household is a group of people residing within a home. Since the average\n",
      "number of rooms and bedrooms in this dataset are provided per household, these\n",
      "columns may take surprisingly large values for block groups with few households\n",
      "and many empty houses, such as vacation resorts.\n",
      "\n",
      "It can be downloaded/loaded using the\n",
      ":func:`sklearn.datasets.fetch_california_housing` function.\n",
      "\n",
      ".. topic:: References\n",
      "\n",
      "    - Pace, R. Kelley and Ronald Barry, Sparse Spatial Autoregressions,\n",
      "      Statistics and Probability Letters, 33 (1997) 291-297\n",
      "\n"
     ]
    }
   ],
   "source": [
    "# Import the California housing data set and get description\n",
    "california_dataset = fetch_california_housing()\n",
    "\n",
    "print(california_dataset.DESCR)"
   ]
  },
  {
   "cell_type": "code",
   "execution_count": 68,
   "metadata": {},
   "outputs": [
    {
     "data": {
      "text/html": [
       "<div>\n",
       "<style scoped>\n",
       "    .dataframe tbody tr th:only-of-type {\n",
       "        vertical-align: middle;\n",
       "    }\n",
       "\n",
       "    .dataframe tbody tr th {\n",
       "        vertical-align: top;\n",
       "    }\n",
       "\n",
       "    .dataframe thead th {\n",
       "        text-align: right;\n",
       "    }\n",
       "</style>\n",
       "<table border=\"1\" class=\"dataframe\">\n",
       "  <thead>\n",
       "    <tr style=\"text-align: right;\">\n",
       "      <th></th>\n",
       "      <th>MedInc</th>\n",
       "      <th>HouseAge</th>\n",
       "      <th>AveRooms</th>\n",
       "      <th>AveBedrms</th>\n",
       "      <th>Population</th>\n",
       "      <th>AveOccup</th>\n",
       "      <th>Latitude</th>\n",
       "      <th>Longitude</th>\n",
       "      <th>MEDV</th>\n",
       "    </tr>\n",
       "  </thead>\n",
       "  <tbody>\n",
       "    <tr>\n",
       "      <th>0</th>\n",
       "      <td>8.3252</td>\n",
       "      <td>41.0</td>\n",
       "      <td>6.984127</td>\n",
       "      <td>1.023810</td>\n",
       "      <td>322.0</td>\n",
       "      <td>2.555556</td>\n",
       "      <td>37.88</td>\n",
       "      <td>-122.23</td>\n",
       "      <td>4.526</td>\n",
       "    </tr>\n",
       "    <tr>\n",
       "      <th>1</th>\n",
       "      <td>8.3014</td>\n",
       "      <td>21.0</td>\n",
       "      <td>6.238137</td>\n",
       "      <td>0.971880</td>\n",
       "      <td>2401.0</td>\n",
       "      <td>2.109842</td>\n",
       "      <td>37.86</td>\n",
       "      <td>-122.22</td>\n",
       "      <td>3.585</td>\n",
       "    </tr>\n",
       "    <tr>\n",
       "      <th>2</th>\n",
       "      <td>7.2574</td>\n",
       "      <td>52.0</td>\n",
       "      <td>8.288136</td>\n",
       "      <td>1.073446</td>\n",
       "      <td>496.0</td>\n",
       "      <td>2.802260</td>\n",
       "      <td>37.85</td>\n",
       "      <td>-122.24</td>\n",
       "      <td>3.521</td>\n",
       "    </tr>\n",
       "    <tr>\n",
       "      <th>3</th>\n",
       "      <td>5.6431</td>\n",
       "      <td>52.0</td>\n",
       "      <td>5.817352</td>\n",
       "      <td>1.073059</td>\n",
       "      <td>558.0</td>\n",
       "      <td>2.547945</td>\n",
       "      <td>37.85</td>\n",
       "      <td>-122.25</td>\n",
       "      <td>3.413</td>\n",
       "    </tr>\n",
       "    <tr>\n",
       "      <th>4</th>\n",
       "      <td>3.8462</td>\n",
       "      <td>52.0</td>\n",
       "      <td>6.281853</td>\n",
       "      <td>1.081081</td>\n",
       "      <td>565.0</td>\n",
       "      <td>2.181467</td>\n",
       "      <td>37.85</td>\n",
       "      <td>-122.25</td>\n",
       "      <td>3.422</td>\n",
       "    </tr>\n",
       "  </tbody>\n",
       "</table>\n",
       "</div>"
      ],
      "text/plain": [
       "   MedInc  HouseAge  AveRooms  AveBedrms  Population  AveOccup  Latitude  \\\n",
       "0  8.3252      41.0  6.984127   1.023810       322.0  2.555556     37.88   \n",
       "1  8.3014      21.0  6.238137   0.971880      2401.0  2.109842     37.86   \n",
       "2  7.2574      52.0  8.288136   1.073446       496.0  2.802260     37.85   \n",
       "3  5.6431      52.0  5.817352   1.073059       558.0  2.547945     37.85   \n",
       "4  3.8462      52.0  6.281853   1.081081       565.0  2.181467     37.85   \n",
       "\n",
       "   Longitude   MEDV  \n",
       "0    -122.23  4.526  \n",
       "1    -122.22  3.585  \n",
       "2    -122.24  3.521  \n",
       "3    -122.25  3.413  \n",
       "4    -122.25  3.422  "
      ]
     },
     "execution_count": 68,
     "metadata": {},
     "output_type": "execute_result"
    }
   ],
   "source": [
    "# Read California housing data into a Pandas dataframe\n",
    "housing_data = pd.DataFrame(data=california_dataset.data,columns=california_dataset.feature_names)\n",
    "housing_data['MEDV'] = california_dataset.target\n",
    "housing_data.head()"
   ]
  },
  {
   "cell_type": "code",
   "execution_count": 69,
   "metadata": {},
   "outputs": [],
   "source": [
    "# Create a bunch of samples, each with sample size of 20\n",
    "nsamples = 25\n",
    "div = 20\n",
    "\n",
    "# Code Here\n",
    "\n",
    "house_sample_set = [housing_data.sample(div) for x in range(0,nsamples)]\n"
   ]
  },
  {
   "cell_type": "code",
   "execution_count": 70,
   "metadata": {},
   "outputs": [],
   "source": [
    "# Calculate means\n",
    "means = [np.mean(sample[\"MEDV\"]) for sample in house_sample_set]\n",
    "# Calculate standard error on means\n",
    "standard_errors = [sem(sample[\"MEDV\"]) for sample in house_sample_set]\n",
    "x_axis = np.arange(0,len(house_sample_set)) + 1\n",
    "\n"
   ]
  },
  {
   "cell_type": "code",
   "execution_count": 71,
   "metadata": {},
   "outputs": [
    {
     "data": {
      "application/vnd.jupyter.widget-view+json": {
       "model_id": "9211d70fd1424a41bbeeaa72335c19f5",
       "version_major": 2,
       "version_minor": 0
      },
      "image/png": "[encoded data removed]",
      "text/html": [
       "\n",
       "            <div style=\"display: inline-block;\">\n",
       "                <div class=\"jupyter-widgets widget-label\" style=\"text-align: center;\">\n",
       "                    Figure\n",
       "                </div>\n",
       "                <img src='data:image/png;base64,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' width=640.0/>\n",
       "            </div>\n",
       "        "
      ],
      "text/plain": [
       "Canvas(toolbar=Toolbar(toolitems=[('Home', 'Reset original view', 'home', 'home'), ('Back', 'Back to previous …"
      ]
     },
     "metadata": {},
     "output_type": "display_data"
    }
   ],
   "source": [
    "# Plot sample means with error bars\n",
    "fig, ax = plt.subplots()\n",
    "ax.errorbar(x_axis, means, standard_errors, fmt = \"o\", label =\"Mean of House Prices\")\n",
    "ax.legend(loc = \"best\")\n",
    "ax.set_xlabel(\"Sample Number\")\n",
    "ax.set_ylabel(\"Median House Prices\")\n",
    "ax.set_title(\"Samples of Median House Prices\")\n",
    "plt.show()"
   ]
  },
  {
   "cell_type": "code",
   "execution_count": 72,
   "metadata": {},
   "outputs": [
    {
     "name": "stdout",
     "output_type": "stream",
     "text": [
      "0.22784853464040405\n"
     ]
    }
   ],
   "source": [
    "# Calculate the range of SEM values\n",
    "sem_min = np.min(standard_errors)\n",
    "sem_max = np.max(standard_errors)\n",
    "sem_range = sem_max - sem_min\n",
    "print(sem_range)"
   ]
  },
  {
   "cell_type": "code",
   "execution_count": 73,
   "metadata": {},
   "outputs": [
    {
     "name": "stdout",
     "output_type": "stream",
     "text": [
      "18\n",
      "[2.4307019999999997, 2.1342499999999998, 2.2865504999999997, 2.0433000000000003, 2.1216005000000004, 2.0240505, 2.0027005000000004, 2.2831010000000003, 2.1316005, 1.9974505, 2.1944005000000004, 2.023601, 2.0941505000000005, 2.0054005, 1.88315, 2.2975510000000003, 2.6736510000000004, 2.2493505, 2.051351, 2.0409505, 2.468851, 2.1375504999999997, 2.4113, 2.17, 2.3252005000000002]\n"
     ]
    }
   ],
   "source": [
    "# Determine which sample's mean is closest to the population mean\n",
    "pop_mean = np.mean(housing_data['MEDV'])\n",
    "closest_index = np.abs(means - pop_mean).argmin()\n",
    "print(closest_index)\n",
    "print(means)"
   ]
  },
  {
   "cell_type": "code",
   "execution_count": 76,
   "metadata": {},
   "outputs": [
    {
     "name": "stdout",
     "output_type": "stream",
     "text": [
      "The closes sample mean was sample 19 with a mean of  2.051351\n",
      "While, the population mean was 2.068558169089147\n"
     ]
    }
   ],
   "source": [
    "# Compare to the population mean\n",
    "print(f\"The closes sample mean was sample 19 with a mean of  {means[18]}\")\n",
    "print(f\"While, the population mean was {pop_mean}\")"
   ]
  },
  {
   "cell_type": "code",
   "execution_count": null,
   "metadata": {},
   "outputs": [],
   "source": []
  }
 ],
 "metadata": {
  "kernelspec": {
   "display_name": "Python 3 (ipykernel)",
   "language": "python",
   "name": "python3"
  },
  "language_info": {
   "codemirror_mode": {
    "name": "ipython",
    "version": 3
   },
   "file_extension": ".py",
   "mimetype": "text/x-python",
   "name": "python",
   "nbconvert_exporter": "python",
   "pygments_lexer": "ipython3",
   "version": "3.10.13"
  }
 },
 "nbformat": 4,
 "nbformat_minor": 4
}
