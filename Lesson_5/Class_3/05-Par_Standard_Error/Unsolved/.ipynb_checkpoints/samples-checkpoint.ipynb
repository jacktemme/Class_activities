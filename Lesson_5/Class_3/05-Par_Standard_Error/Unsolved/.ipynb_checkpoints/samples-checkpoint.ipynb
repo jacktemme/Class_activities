{
 "cells": [
  {
   "cell_type": "code",
   "execution_count": 2,
   "metadata": {},
   "outputs": [],
   "source": [
    "%matplotlib widget"
   ]
  },
  {
   "cell_type": "code",
   "execution_count": 3,
   "metadata": {},
   "outputs": [],
   "source": [
    "# Import dependencies\n",
    "from matplotlib import pyplot as plt\n",
    "import numpy as np\n",
    "import pandas as pd\n",
    "from sklearn.datasets import fetch_california_housing\n",
    "from scipy.stats import sem"
   ]
  },
  {
   "cell_type": "code",
   "execution_count": 6,
   "metadata": {},
   "outputs": [
    {
     "name": "stdout",
     "output_type": "stream",
     "text": [
      ".. _california_housing_dataset:\n",
      "\n",
      "California Housing dataset\n",
      "--------------------------\n",
      "\n",
      "**Data Set Characteristics:**\n",
      "\n",
      "    :Number of Instances: 20640\n",
      "\n",
      "    :Number of Attributes: 8 numeric, predictive attributes and the target\n",
      "\n",
      "    :Attribute Information:\n",
      "        - MedInc        median income in block group\n",
      "        - HouseAge      median house age in block group\n",
      "        - AveRooms      average number of rooms per household\n",
      "        - AveBedrms     average number of bedrooms per household\n",
      "        - Population    block group population\n",
      "        - AveOccup      average number of household members\n",
      "        - Latitude      block group latitude\n",
      "        - Longitude     block group longitude\n",
      "\n",
      "    :Missing Attribute Values: None\n",
      "\n",
      "This dataset was obtained from the StatLib repository.\n",
      "https://www.dcc.fc.up.pt/~ltorgo/Regression/cal_housing.html\n",
      "\n",
      "The target variable is the median house value for California districts,\n",
      "expressed in hundreds of thousands of dollars ($100,000).\n",
      "\n",
      "This dataset was derived from the 1990 U.S. census, using one row per census\n",
      "block group. A block group is the smallest geographical unit for which the U.S.\n",
      "Census Bureau publishes sample data (a block group typically has a population\n",
      "of 600 to 3,000 people).\n",
      "\n",
      "A household is a group of people residing within a home. Since the average\n",
      "number of rooms and bedrooms in this dataset are provided per household, these\n",
      "columns may take surprisingly large values for block groups with few households\n",
      "and many empty houses, such as vacation resorts.\n",
      "\n",
      "It can be downloaded/loaded using the\n",
      ":func:`sklearn.datasets.fetch_california_housing` function.\n",
      "\n",
      ".. topic:: References\n",
      "\n",
      "    - Pace, R. Kelley and Ronald Barry, Sparse Spatial Autoregressions,\n",
      "      Statistics and Probability Letters, 33 (1997) 291-297\n",
      "\n"
     ]
    }
   ],
   "source": [
    "# Import the California housing data set and get description\n",
    "california_dataset = fetch_california_housing()\n",
    "\n",
    "print(california_dataset.DESCR)"
   ]
  },
  {
   "cell_type": "code",
   "execution_count": 5,
   "metadata": {},
   "outputs": [
    {
     "data": {
      "text/html": [
       "<div>\n",
       "<style scoped>\n",
       "    .dataframe tbody tr th:only-of-type {\n",
       "        vertical-align: middle;\n",
       "    }\n",
       "\n",
       "    .dataframe tbody tr th {\n",
       "        vertical-align: top;\n",
       "    }\n",
       "\n",
       "    .dataframe thead th {\n",
       "        text-align: right;\n",
       "    }\n",
       "</style>\n",
       "<table border=\"1\" class=\"dataframe\">\n",
       "  <thead>\n",
       "    <tr style=\"text-align: right;\">\n",
       "      <th></th>\n",
       "      <th>MedInc</th>\n",
       "      <th>HouseAge</th>\n",
       "      <th>AveRooms</th>\n",
       "      <th>AveBedrms</th>\n",
       "      <th>Population</th>\n",
       "      <th>AveOccup</th>\n",
       "      <th>Latitude</th>\n",
       "      <th>Longitude</th>\n",
       "      <th>MEDV</th>\n",
       "    </tr>\n",
       "  </thead>\n",
       "  <tbody>\n",
       "    <tr>\n",
       "      <th>0</th>\n",
       "      <td>8.3252</td>\n",
       "      <td>41.0</td>\n",
       "      <td>6.984127</td>\n",
       "      <td>1.023810</td>\n",
       "      <td>322.0</td>\n",
       "      <td>2.555556</td>\n",
       "      <td>37.88</td>\n",
       "      <td>-122.23</td>\n",
       "      <td>4.526</td>\n",
       "    </tr>\n",
       "    <tr>\n",
       "      <th>1</th>\n",
       "      <td>8.3014</td>\n",
       "      <td>21.0</td>\n",
       "      <td>6.238137</td>\n",
       "      <td>0.971880</td>\n",
       "      <td>2401.0</td>\n",
       "      <td>2.109842</td>\n",
       "      <td>37.86</td>\n",
       "      <td>-122.22</td>\n",
       "      <td>3.585</td>\n",
       "    </tr>\n",
       "    <tr>\n",
       "      <th>2</th>\n",
       "      <td>7.2574</td>\n",
       "      <td>52.0</td>\n",
       "      <td>8.288136</td>\n",
       "      <td>1.073446</td>\n",
       "      <td>496.0</td>\n",
       "      <td>2.802260</td>\n",
       "      <td>37.85</td>\n",
       "      <td>-122.24</td>\n",
       "      <td>3.521</td>\n",
       "    </tr>\n",
       "    <tr>\n",
       "      <th>3</th>\n",
       "      <td>5.6431</td>\n",
       "      <td>52.0</td>\n",
       "      <td>5.817352</td>\n",
       "      <td>1.073059</td>\n",
       "      <td>558.0</td>\n",
       "      <td>2.547945</td>\n",
       "      <td>37.85</td>\n",
       "      <td>-122.25</td>\n",
       "      <td>3.413</td>\n",
       "    </tr>\n",
       "    <tr>\n",
       "      <th>4</th>\n",
       "      <td>3.8462</td>\n",
       "      <td>52.0</td>\n",
       "      <td>6.281853</td>\n",
       "      <td>1.081081</td>\n",
       "      <td>565.0</td>\n",
       "      <td>2.181467</td>\n",
       "      <td>37.85</td>\n",
       "      <td>-122.25</td>\n",
       "      <td>3.422</td>\n",
       "    </tr>\n",
       "  </tbody>\n",
       "</table>\n",
       "</div>"
      ],
      "text/plain": [
       "   MedInc  HouseAge  AveRooms  AveBedrms  Population  AveOccup  Latitude  \\\n",
       "0  8.3252      41.0  6.984127   1.023810       322.0  2.555556     37.88   \n",
       "1  8.3014      21.0  6.238137   0.971880      2401.0  2.109842     37.86   \n",
       "2  7.2574      52.0  8.288136   1.073446       496.0  2.802260     37.85   \n",
       "3  5.6431      52.0  5.817352   1.073059       558.0  2.547945     37.85   \n",
       "4  3.8462      52.0  6.281853   1.081081       565.0  2.181467     37.85   \n",
       "\n",
       "   Longitude   MEDV  \n",
       "0    -122.23  4.526  \n",
       "1    -122.22  3.585  \n",
       "2    -122.24  3.521  \n",
       "3    -122.25  3.413  \n",
       "4    -122.25  3.422  "
      ]
     },
     "execution_count": 5,
     "metadata": {},
     "output_type": "execute_result"
    }
   ],
   "source": [
    "# Read California housing data into a Pandas dataframe\n",
    "housing_data = pd.DataFrame(data=california_dataset.data,columns=california_dataset.feature_names)\n",
    "housing_data['MEDV'] = california_dataset.target\n",
    "housing_data.head()"
   ]
  },
  {
   "cell_type": "code",
   "execution_count": 10,
   "metadata": {},
   "outputs": [],
   "source": [
    "# Create a bunch of samples, each with sample size of 20\n",
    "nsamples = 25\n",
    "div = 20\n",
    "\n",
    "# Code Here\n",
    "house_sample_set = [housing_data.sample(div) for x in range(0, nsamples)]\n"
   ]
  },
  {
   "cell_type": "code",
   "execution_count": 38,
   "metadata": {},
   "outputs": [
    {
     "name": "stdout",
     "output_type": "stream",
     "text": [
      "[ 1  2  3  4  5  6  7  8  9 10 11 12 13 14 15 16 17 18 19 20 21 22 23 24\n",
      " 25]\n"
     ]
    }
   ],
   "source": [
    "# Calculate means\n",
    "means = [sample[\"MEDV\"].mean() for sample in house_sample_set ]\n",
    "standard_errors = [sem(sample[\"MEDV\"]) for sample in house_sample_set]\n",
    "x_axis = np.arange(0, len(house_sample_set)) + 1\n",
    "# Calculate standard error on means\n",
    "print(x_axis)"
   ]
  },
  {
   "cell_type": "code",
   "execution_count": 43,
   "metadata": {},
   "outputs": [
    {
     "data": {
      "application/vnd.jupyter.widget-view+json": {
       "model_id": "dba3cefe8b034101a2ff0a0da18b677e",
       "version_major": 2,
       "version_minor": 0
      },
      "image/png": "[encoded data removed]",
      "text/html": [
       "\n",
       "            <div style=\"display: inline-block;\">\n",
       "                <div class=\"jupyter-widgets widget-label\" style=\"text-align: center;\">\n",
       "                    Figure\n",
       "                </div>\n",
       "                <img src='data:image/png;base64,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' width=640.0/>\n",
       "            </div>\n",
       "        "
      ],
      "text/plain": [
       "Canvas(toolbar=Toolbar(toolitems=[('Home', 'Reset original view', 'home', 'home'), ('Back', 'Back to previous …"
      ]
     },
     "metadata": {},
     "output_type": "display_data"
    }
   ],
   "source": [
    "# Plot sample means with error bars\n",
    "fig, ax = plt.subplots()\n",
    "ax.errorbar(x_axis,means, standard_errors, fmt = \"o\", label = \"Mean of House Prices\")\n",
    "ax.set_xlabel(\"Sample Number\")\n",
    "ax.set_ylabel(\"Mean of Median House Prices\")\n",
    "plt.legend(loc = \"best\", fancybox = True)\n",
    "plt.show()"
   ]
  },
  {
   "cell_type": "code",
   "execution_count": 40,
   "metadata": {},
   "outputs": [
    {
     "name": "stdout",
     "output_type": "stream",
     "text": [
      "0.17516030994610382\n"
     ]
    }
   ],
   "source": [
    "# Calculate the range of SEM values\n",
    "min = np.min(standard_errors)\n",
    "max = np.max(standard_errors)\n",
    "range = max - min\n",
    "print(range)"
   ]
  },
  {
   "cell_type": "code",
   "execution_count": 48,
   "metadata": {},
   "outputs": [
    {
     "name": "stdout",
     "output_type": "stream",
     "text": [
      "2.068558169089147\n",
      "[2.37945, 2.0379500000000004, 2.0114500000000004, 2.323251, 2.1549500000000004, 2.496651, 2.285051, 1.7292505000000002, 1.80595, 2.588101, 2.1845515, 2.382901, 1.8988999999999998, 1.9513500000000001, 1.7573999999999999, 2.501751, 2.4133005, 1.9639004999999998, 2.2357505, 1.6856005, 2.0281005, 1.6517999999999997, 2.4021005000000004, 2.1120504999999996, 1.6079999999999999]\n"
     ]
    }
   ],
   "source": [
    "# Determine which sample's mean is closest to the population mean\n",
    "population_mean = housing_data['MEDV'].mean()\n",
    "print(population_mean)\n",
    "print(means)"
   ]
  },
  {
   "cell_type": "code",
   "execution_count": 10,
   "metadata": {},
   "outputs": [
    {
     "name": "stdout",
     "output_type": "stream",
     "text": [
      "The mean of the sample 5 is 1.6022500000000002\n",
      "The mean of the population data set is 2.068558169089147\n"
     ]
    }
   ],
   "source": [
    "# Compare to the population mean\n"
   ]
  },
  {
   "cell_type": "code",
   "execution_count": null,
   "metadata": {},
   "outputs": [],
   "source": []
  }
 ],
 "metadata": {
  "kernelspec": {
   "display_name": "Python 3 (ipykernel)",
   "language": "python",
   "name": "python3"
  },
  "language_info": {
   "codemirror_mode": {
    "name": "ipython",
    "version": 3
   },
   "file_extension": ".py",
   "mimetype": "text/x-python",
   "name": "python",
   "nbconvert_exporter": "python",
   "pygments_lexer": "ipython3",
   "version": "3.10.13"
  }
 },
 "nbformat": 4,
 "nbformat_minor": 4
}
