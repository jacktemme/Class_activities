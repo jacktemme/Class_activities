{
 "cells": [
  {
   "cell_type": "code",
   "execution_count": 37,
   "metadata": {},
   "outputs": [],
   "source": [
    "%matplotlib widget"
   ]
  },
  {
   "cell_type": "code",
   "execution_count": 38,
   "metadata": {},
   "outputs": [],
   "source": [
    "import matplotlib.pyplot as plt\n",
    "import numpy as np"
   ]
  },
  {
   "cell_type": "code",
   "execution_count": 32,
   "metadata": {},
   "outputs": [],
   "source": [
    "cities = [\"San Francisco\", \"Omaha\", \"New Orleans\", \"Cincinnati\", \"Pittsburgh\"]\n",
    "cars_in_cities = [214.7, 564.4, 416.5, 466.7, 350.6]\n",
    "x_axis = np.arange(len(cars_in_cities))\n",
    "bar_colors = ['tab:red', 'tab:blue', 'tab:purple', 'tab:orange', 'tab:green']"
   ]
  },
  {
   "cell_type": "code",
   "execution_count": null,
   "metadata": {},
   "outputs": [],
   "source": [
    "# Create a bar chart based upon the above data\n",
    "plt.bar(x_axis,cars_in_cities, colors = bar_colors)"
   ]
  },
  {
   "cell_type": "code",
   "execution_count": 48,
   "metadata": {},
   "outputs": [
    {
     "data": {
      "text/plain": [
       "([<matplotlib.axis.XTick at 0x7f9dff8fe6b0>,\n",
       "  <matplotlib.axis.XTick at 0x7f9dff8fe230>,\n",
       "  <matplotlib.axis.XTick at 0x7f9dff96b8b0>,\n",
       "  <matplotlib.axis.XTick at 0x7f9dff9c81f0>,\n",
       "  <matplotlib.axis.XTick at 0x7f9dff96bdf0>],\n",
       " [Text(0, 0, 'San Francisco'),\n",
       "  Text(1, 0, 'Omaha'),\n",
       "  Text(2, 0, 'New Orleans'),\n",
       "  Text(3, 0, 'Cincinnati'),\n",
       "  Text(4, 0, 'Pittsburgh')])"
      ]
     },
     "execution_count": 48,
     "metadata": {},
     "output_type": "execute_result"
    }
   ],
   "source": [
    "# Create the ticks for our bar chart's x axis\n"
   ]
  },
  {
   "cell_type": "code",
   "execution_count": 59,
   "metadata": {},
   "outputs": [
    {
     "data": {
      "text/plain": [
       "(0.0, 600.0)"
      ]
     },
     "execution_count": 59,
     "metadata": {},
     "output_type": "execute_result"
    }
   ],
   "source": [
    "# Set the limits of the x axis\n",
    "plt.xlim(-.5, 4.6)\n"
   ]
  },
  {
   "cell_type": "code",
   "execution_count": 7,
   "metadata": {},
   "outputs": [],
   "source": [
    "# Set the limits of the y axis\n",
    "plt.ylim(0,600)"
   ]
  },
  {
   "cell_type": "code",
   "execution_count": 60,
   "metadata": {},
   "outputs": [
    {
     "data": {
      "text/plain": [
       "Text(76.56944444444443, 0.5, '# of Cars')"
      ]
     },
     "execution_count": 60,
     "metadata": {},
     "output_type": "execute_result"
    }
   ],
   "source": [
    "# Give the chart a title, x label, and y label\n",
    "plt.title(\"# of Cars per City\")\n",
    "plt.xlabel(\"Cities\")\n",
    "plt.ylabel(\"# of Cars\")"
   ]
  },
  {
   "cell_type": "code",
   "execution_count": 61,
   "metadata": {},
   "outputs": [],
   "source": [
    "# Save an image of the chart and print it to the screen\n",
    "plt.savefig(\"../Images/cars.png\")"
   ]
  },
  {
   "cell_type": "code",
   "execution_count": null,
   "metadata": {},
   "outputs": [],
   "source": []
  }
 ],
 "metadata": {
  "kernelspec": {
   "display_name": "Python 3 (ipykernel)",
   "language": "python",
   "name": "python3"
  },
  "language_info": {
   "codemirror_mode": {
    "name": "ipython",
    "version": 3
   },
   "file_extension": ".py",
   "mimetype": "text/x-python",
   "name": "python",
   "nbconvert_exporter": "python",
   "pygments_lexer": "ipython3",
   "version": "3.10.13"
  }
 },
 "nbformat": 4,
 "nbformat_minor": 4
}
